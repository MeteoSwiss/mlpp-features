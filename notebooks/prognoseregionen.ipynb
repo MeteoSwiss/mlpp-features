{
 "cells": [
  {
   "cell_type": "code",
   "execution_count": null,
   "metadata": {},
   "outputs": [],
   "source": [
    "from pathlib import Path\n",
    "\n",
    "import matplotlib.pyplot as plt\n",
    "import numpy as np\n",
    "import geopandas as gpd\n",
    "from pyproj import CRS, Transformer"
   ]
  },
  {
   "cell_type": "code",
   "execution_count": null,
   "metadata": {},
   "outputs": [],
   "source": [
    "# Define the base and data directories using pathlib\n",
    "BASE_DIR = BASE_DIR = Path().resolve().parent\n",
    "DATA_DIR = BASE_DIR / \"data\"\n",
    "\n",
    "# Path to the specific shapefile\n",
    "shapefile_path = DATA_DIR / \"prognoseregionen\" / \"suedlicheralpenkamm.shp\""
   ]
  },
  {
   "cell_type": "code",
   "execution_count": null,
   "metadata": {},
   "outputs": [],
   "source": [
    "alpine_crest_wgs84_manual = np.array([\n",
    "        [45.67975, 6.88306],\n",
    "        [45.75149, 6.80643],\n",
    "        [45.88912, 7.07724],\n",
    "        [45.86909, 7.17029],\n",
    "        [46.25074, 8.03064],\n",
    "        [46.47280, 8.38946],\n",
    "        [46.55972, 8.55968],\n",
    "        [46.56318, 8.80080],\n",
    "        [46.61256, 8.96059],\n",
    "        [46.49712, 9.17104],\n",
    "        [46.50524, 9.33031],\n",
    "        [46.39905, 9.69325],\n",
    "        [46.40885, 10.01963],\n",
    "        [46.63982, 10.29218],\n",
    "        [46.83630, 10.50783],\n",
    "        [46.90567, 11.09742],\n",
    "    ])"
   ]
  },
  {
   "cell_type": "code",
   "execution_count": null,
   "metadata": {},
   "outputs": [],
   "source": [
    "def load_shapefile(shapefile_path):\n",
    "    gdf = gpd.read_file(shapefile_path)\n",
    "    return gdf\n",
    "\n",
    "def extract_coordinates(gdf):\n",
    "    coordinates_list = []\n",
    "    for geometry in gdf.geometry:\n",
    "        if geometry.geom_type == 'LineString':\n",
    "            coordinates_list.extend(geometry.coords)\n",
    "        elif geometry.geom_type == 'MultiLineString':\n",
    "            for line in geometry:\n",
    "                coordinates_list.extend(line.coords)\n",
    "    return coordinates_list\n",
    "\n",
    "def transform_coordinates(coordinates_list, source_crs, target_crs):\n",
    "    transformer = Transformer.from_crs(source_crs, target_crs, always_xy=True)\n",
    "    transformed_coordinates = [transformer.transform(x, y) for x, y in coordinates_list]\n",
    "    return transformed_coordinates"
   ]
  },
  {
   "cell_type": "code",
   "execution_count": null,
   "metadata": {},
   "outputs": [],
   "source": [
    "# Load the shapefile\n",
    "gdf = load_shapefile(shapefile_path)\n",
    "\n",
    "# Extract coordinates\n",
    "coords_epsg = extract_coordinates(gdf)\n",
    "coords_wsg84 = transform_coordinates(coords_epsg, CRS.from_epsg(2056), CRS.from_epsg(4326))\n",
    "alpine_crest_wgs84 = np.round(coords_wsg84, 5)[:, ::-1]"
   ]
  },
  {
   "cell_type": "code",
   "execution_count": null,
   "metadata": {},
   "outputs": [],
   "source": [
    "plt.plot(alpine_crest_wgs84[:,1], alpine_crest_wgs84[:, 0])\n",
    "plt.plot(alpine_crest_wgs84_manual[:,1], alpine_crest_wgs84_manual[:, 0])"
   ]
  },
  {
   "cell_type": "code",
   "execution_count": null,
   "metadata": {},
   "outputs": [],
   "source": [
    "alpine_crest_wgs84"
   ]
  },
  {
   "cell_type": "code",
   "execution_count": null,
   "metadata": {},
   "outputs": [],
   "source": []
  }
 ],
 "metadata": {
  "kernelspec": {
   "display_name": "mlpp-features-bs6pNXxM-py3.10",
   "language": "python",
   "name": "python3"
  },
  "language_info": {
   "codemirror_mode": {
    "name": "ipython",
    "version": 3
   },
   "file_extension": ".py",
   "mimetype": "text/x-python",
   "name": "python",
   "nbconvert_exporter": "python",
   "pygments_lexer": "ipython3",
   "version": "3.10.13"
  }
 },
 "nbformat": 4,
 "nbformat_minor": 2
}
